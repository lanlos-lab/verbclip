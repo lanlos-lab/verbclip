{
 "cells": [
  {
   "cell_type": "code",
   "execution_count": 27,
   "metadata": {},
   "outputs": [],
   "source": [
    "import pandas as pd\n",
    "import torch, clip\n",
    "import numpy as np\n",
    "\n",
    "from tqdm import tqdm\n",
    "from PIL import Image\n",
    "from pathlib import Path\n",
    "\n",
    "from torchvision import transforms\n",
    "\n",
    "device = \"cuda\" if torch.cuda.is_available() else \"cpu\"\n",
    "model, preprocess = clip.load(\"ViT-B/32\", device=device)\n",
    "setting_name = '32' # '32' for ViT-B/32, '14' for ViT-L/14"
   ]
  },
  {
   "cell_type": "code",
   "execution_count": 10,
   "metadata": {},
   "outputs": [],
   "source": [
    "# pick a dataset\n",
    "\n",
    "data_path = Path('experiments/svo_probes/svo_probes.csv')\n",
    "# data_path = Path('experiments/vl_checklist/vl_checklist.csv')\n",
    "# data_path = Path('experiments/valse/valse_dataset.csv')\n",
    "\n",
    "data = pd.read_csv(data_path, index_col=0)"
   ]
  },
  {
   "cell_type": "code",
   "execution_count": 11,
   "metadata": {},
   "outputs": [
    {
     "data": {
      "text/html": [
       "<div>\n",
       "<style scoped>\n",
       "    .dataframe tbody tr th:only-of-type {\n",
       "        vertical-align: middle;\n",
       "    }\n",
       "\n",
       "    .dataframe tbody tr th {\n",
       "        vertical-align: top;\n",
       "    }\n",
       "\n",
       "    .dataframe thead th {\n",
       "        text-align: right;\n",
       "    }\n",
       "</style>\n",
       "<table border=\"1\" class=\"dataframe\">\n",
       "  <thead>\n",
       "    <tr style=\"text-align: right;\">\n",
       "      <th></th>\n",
       "      <th>pos_caption</th>\n",
       "      <th>neg_caption</th>\n",
       "      <th>pos_image_id</th>\n",
       "      <th>pos_subject</th>\n",
       "      <th>pos_verb</th>\n",
       "      <th>pos_object</th>\n",
       "      <th>neg_verb</th>\n",
       "      <th>pos_matched_tense</th>\n",
       "      <th>neg_matched_tense</th>\n",
       "    </tr>\n",
       "  </thead>\n",
       "  <tbody>\n",
       "    <tr>\n",
       "      <th>3</th>\n",
       "      <td>A car passes another on a street.</td>\n",
       "      <td>a car hits another on a street.</td>\n",
       "      <td>6</td>\n",
       "      <td>car</td>\n",
       "      <td>pass</td>\n",
       "      <td>street</td>\n",
       "      <td>hit</td>\n",
       "      <td>passes</td>\n",
       "      <td>hits</td>\n",
       "    </tr>\n",
       "    <tr>\n",
       "      <th>9</th>\n",
       "      <td>A girl is sitting in the meadow.</td>\n",
       "      <td>a girl is standing in the meadow.</td>\n",
       "      <td>18</td>\n",
       "      <td>girl</td>\n",
       "      <td>sit</td>\n",
       "      <td>meadow</td>\n",
       "      <td>stand</td>\n",
       "      <td>sitting</td>\n",
       "      <td>standing</td>\n",
       "    </tr>\n",
       "    <tr>\n",
       "      <th>11</th>\n",
       "      <td>A dog sitting in a meadow.</td>\n",
       "      <td>a dog running in a meadow.</td>\n",
       "      <td>22</td>\n",
       "      <td>dog</td>\n",
       "      <td>sit</td>\n",
       "      <td>meadow</td>\n",
       "      <td>run</td>\n",
       "      <td>sitting</td>\n",
       "      <td>running</td>\n",
       "    </tr>\n",
       "    <tr>\n",
       "      <th>16</th>\n",
       "      <td>Women trek through the forrest.</td>\n",
       "      <td>women run through the forrest.</td>\n",
       "      <td>32</td>\n",
       "      <td>woman</td>\n",
       "      <td>trek</td>\n",
       "      <td>forest</td>\n",
       "      <td>run</td>\n",
       "      <td>trek</td>\n",
       "      <td>run</td>\n",
       "    </tr>\n",
       "    <tr>\n",
       "      <th>17</th>\n",
       "      <td>A lady sits in the sand on the beach.</td>\n",
       "      <td>a lady walks in the sand on the beach.</td>\n",
       "      <td>34</td>\n",
       "      <td>lady</td>\n",
       "      <td>sit</td>\n",
       "      <td>beach</td>\n",
       "      <td>walk</td>\n",
       "      <td>sits</td>\n",
       "      <td>walks</td>\n",
       "    </tr>\n",
       "  </tbody>\n",
       "</table>\n",
       "</div>"
      ],
      "text/plain": [
       "                              pos_caption  \\\n",
       "3       A car passes another on a street.   \n",
       "9        A girl is sitting in the meadow.   \n",
       "11             A dog sitting in a meadow.   \n",
       "16        Women trek through the forrest.   \n",
       "17  A lady sits in the sand on the beach.   \n",
       "\n",
       "                               neg_caption  pos_image_id pos_subject pos_verb  \\\n",
       "3          a car hits another on a street.             6         car     pass   \n",
       "9        a girl is standing in the meadow.            18        girl      sit   \n",
       "11              a dog running in a meadow.            22         dog      sit   \n",
       "16          women run through the forrest.            32       woman     trek   \n",
       "17  a lady walks in the sand on the beach.            34        lady      sit   \n",
       "\n",
       "   pos_object neg_verb pos_matched_tense neg_matched_tense  \n",
       "3      street      hit            passes              hits  \n",
       "9      meadow    stand           sitting          standing  \n",
       "11     meadow      run           sitting           running  \n",
       "16     forest      run              trek               run  \n",
       "17      beach     walk              sits             walks  "
      ]
     },
     "execution_count": 11,
     "metadata": {},
     "output_type": "execute_result"
    }
   ],
   "source": [
    "data.head()"
   ]
  },
  {
   "cell_type": "code",
   "execution_count": 20,
   "metadata": {},
   "outputs": [
    {
     "name": "stdout",
     "output_type": "stream",
     "text": [
      "pos_caption            0\n",
      "neg_caption            0\n",
      "pos_image_id           0\n",
      "pos_subject            0\n",
      "pos_verb               0\n",
      "pos_object             0\n",
      "neg_verb              21\n",
      "pos_matched_tense      0\n",
      "neg_matched_tense    631\n",
      "dtype: int64\n"
     ]
    }
   ],
   "source": [
    "# check if the data has nan\n",
    "print(data.isna().sum())"
   ]
  },
  {
   "cell_type": "code",
   "execution_count": 21,
   "metadata": {},
   "outputs": [
    {
     "name": "stdout",
     "output_type": "stream",
     "text": [
      "Number of unique strings: 26089\n"
     ]
    }
   ],
   "source": [
    "string_columns = data.columns[data.dtypes == 'object']\n",
    "# gather all the strings in one list\n",
    "text_to_be_encoded = list(set(data[string_columns].values.flatten()))\n",
    "text_to_be_encoded = [x for x in text_to_be_encoded if type(x) == str]\n",
    "print(f'Number of unique strings: {len(text_to_be_encoded)}')"
   ]
  },
  {
   "cell_type": "code",
   "execution_count": 28,
   "metadata": {},
   "outputs": [
    {
     "name": "stderr",
     "output_type": "stream",
     "text": [
      "100%|██████████| 26089/26089 [21:40<00:00, 20.06it/s]\n"
     ]
    }
   ],
   "source": [
    "embeddings = []\n",
    "names = []\n",
    "\n",
    "for text in tqdm(text_to_be_encoded):\n",
    "    # check if the text is nan\n",
    "    if pd.isna(text):\n",
    "        continue\n",
    "    names.append(text)\n",
    "    text = clip.tokenize([text]).to(device)\n",
    "    with torch.no_grad():\n",
    "        text_features = model.encode_text(text)\n",
    "    embeddings.append(text_features.cpu().numpy())"
   ]
  },
  {
   "cell_type": "code",
   "execution_count": 30,
   "metadata": {},
   "outputs": [],
   "source": [
    "# save the embeddings and names in a npz file\n",
    "# the path should be the same as the csv but with embeddings.npz\n",
    "\n",
    "# np.savez(data_path.with_suffix(f'.embeddings.{setting_name}.npz'), embeddings=embeddings, names=names)\n",
    "# save them as a dictionary using pickle instead \n",
    "import pickle\n",
    "with open(data_path.parent / f'embeddings/txt_emb_{setting_name}.pkl', 'wb') as f:\n",
    "    pickle.dump({name: emb.squeeze() for name, emb in zip(names, embeddings)}, f)"
   ]
  }
 ],
 "metadata": {
  "kernelspec": {
   "display_name": "qnlp31013m1",
   "language": "python",
   "name": "python3"
  },
  "language_info": {
   "codemirror_mode": {
    "name": "ipython",
    "version": 3
   },
   "file_extension": ".py",
   "mimetype": "text/x-python",
   "name": "python",
   "nbconvert_exporter": "python",
   "pygments_lexer": "ipython3",
   "version": "3.10.13"
  }
 },
 "nbformat": 4,
 "nbformat_minor": 2
}
